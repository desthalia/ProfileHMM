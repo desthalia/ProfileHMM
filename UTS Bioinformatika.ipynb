{
 "cells": [
  {
   "cell_type": "markdown",
   "metadata": {},
   "source": [
    "## 1. Download files\n",
    "\n",
    "We will have to download files containing protein sequences which will be used as initial data to build a profile HMM. Later, we use this profile HMM as the base to do MSA given a new protein sequence. <br>\n",
    "\n",
    "Using NCBI database, we download the protein sequences of 3 variants of Hepatitis virus C."
   ]
  },
  {
   "cell_type": "code",
   "execution_count": 1,
   "metadata": {},
   "outputs": [],
   "source": [
    "import os\n",
    "from Bio import SeqIO\n",
    "from Bio import Entrez"
   ]
  },
  {
   "cell_type": "code",
   "execution_count": 2,
   "metadata": {},
   "outputs": [],
   "source": [
    "sequences = []\n",
    "Entrez.email = \"desthalia@mail.ugm.ac.id\"\n",
    "accessions = [\"NP_671491.1\", \"BAB32872.1\", \"AEB71618.2\"]\n",
    "\n",
    "#Download FASTA files to local folder\n",
    "for x in accessions:\n",
    "    filename = x + \".fasta\"\n",
    "    if not os.path.isfile(filename):\n",
    "        handle = Entrez.efetch(db=\"nucleotide\", id=x, rettype=\"fasta\", retmode=\"text\")\n",
    "        out_handle = open(filename, \"w\")\n",
    "        out_handle.write(handle.read())\n",
    "        out_handle.close()\n",
    "        handle.close()\n",
    "        print(\"Saved\")\n",
    "\n",
    "    record = SeqIO.read(filename, \"fasta\")\n",
    "    sequences.append(record)"
   ]
  },
  {
   "cell_type": "code",
   "execution_count": 3,
   "metadata": {},
   "outputs": [
    {
     "data": {
      "text/plain": [
       "3"
      ]
     },
     "execution_count": 3,
     "metadata": {},
     "output_type": "execute_result"
    }
   ],
   "source": [
    "#Combine all the downloaded files into one file\n",
    "SeqIO.write(sequences, \"Hepatitis_variants.fasta\", \"fasta\")"
   ]
  },
  {
   "cell_type": "markdown",
   "metadata": {},
   "source": [
    "## 2. Profile HMM\n",
    "\n",
    "Technically, we can infer a profile HMM from unalligned sequences. But for convinience sake, we use CLUSTAL to build an alligned sequence and 'convert' it into a profile HMM.\n",
    "\n",
    "We use HMMER program (http://hmmer.org/) to build a profile HMM and use it to perform MSA. Install it on Anaconda: conda install -c biocore hmmer"
   ]
  },
  {
   "cell_type": "code",
   "execution_count": 4,
   "metadata": {},
   "outputs": [],
   "source": [
    "from Bio.Align.Applications import ClustalwCommandline\n",
    "import subprocess"
   ]
  },
  {
   "cell_type": "code",
   "execution_count": 6,
   "metadata": {},
   "outputs": [],
   "source": [
    "#Using Clustal to build initial MSA\n",
    "clustalw = r\"/home/desthalia/clustalo/clustalo\"\n",
    "cline = ClustalwCommandline(clustalw, infile=\"Hepatitis_variants.fasta\")\n",
    "stdout, stderr = cline()"
   ]
  },
  {
   "cell_type": "code",
   "execution_count": 7,
   "metadata": {},
   "outputs": [],
   "source": [
    "#Using HMMER program to convert\n",
    "profile = subprocess.run(['hmmbuild', 'Hepatitis_variants.hmm', 'clustal.aln'])"
   ]
  },
  {
   "cell_type": "markdown",
   "metadata": {},
   "source": [
    "Using new sequences, in this case <i>Eschericia coli</i>, to make perform another MSA. Results will be shown on Linux shell."
   ]
  },
  {
   "cell_type": "code",
   "execution_count": null,
   "metadata": {},
   "outputs": [],
   "source": [
    "hmm = subprocess.run(['hmmalign', 'Hepatitis_variants.hmm', 'GCF_000005845.2_ASM584v2_protein.faa'])"
   ]
  }
 ],
 "metadata": {
  "kernelspec": {
   "display_name": "Python 3",
   "language": "python",
   "name": "python3"
  },
  "language_info": {
   "codemirror_mode": {
    "name": "ipython",
    "version": 3
   },
   "file_extension": ".py",
   "mimetype": "text/x-python",
   "name": "python",
   "nbconvert_exporter": "python",
   "pygments_lexer": "ipython3",
   "version": "3.6.4"
  }
 },
 "nbformat": 4,
 "nbformat_minor": 2
}
